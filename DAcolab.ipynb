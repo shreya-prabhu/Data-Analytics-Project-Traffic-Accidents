{
  "nbformat": 4,
  "nbformat_minor": 0,
  "metadata": {
    "colab": {
      "name": "Data Analytics.ipynb",
      "provenance": [],
      "collapsed_sections": []
    },
    "kernelspec": {
      "display_name": "Python 3",
      "name": "python3"
    }
  },
  "cells": [
    {
      "cell_type": "code",
      "metadata": {
        "colab": {
          "base_uri": "https://localhost:8080/"
        },
        "id": "UHS4kshiyK8W",
        "outputId": "5e586816-a9db-48f4-bbc7-2ef34f5cd87f"
      },
      "source": [
        "from google.colab import drive\n",
        "drive.mount('/content/drive')"
      ],
      "execution_count": null,
      "outputs": [
        {
          "output_type": "stream",
          "text": [
            "Drive already mounted at /content/drive; to attempt to forcibly remount, call drive.mount(\"/content/drive\", force_remount=True).\n"
          ],
          "name": "stdout"
        }
      ]
    },
    {
      "cell_type": "markdown",
      "metadata": {
        "id": "NXC0o0Zdb8aT"
      },
      "source": [
        "**Link to dataset:**"
      ]
    },
    {
      "cell_type": "code",
      "metadata": {
        "id": "zkyHEyWFyd1t"
      },
      "source": [
        "import pandas as pd\n",
        "import sklearn as sk\n",
        "import numpy as np"
      ],
      "execution_count": null,
      "outputs": []
    },
    {
      "cell_type": "code",
      "metadata": {
        "id": "gvLVFHtoygg9"
      },
      "source": [
        "path=\"/content/drive/MyDrive/Accidents/Traffic_Crashes_-_Crashes.csv\"\n",
        "data = pd.read_csv(path)"
      ],
      "execution_count": null,
      "outputs": []
    },
    {
      "cell_type": "code",
      "metadata": {
        "id": "1OoSXFrYyi5U"
      },
      "source": [
        "df= data[['LATITUDE','LONGITUDE','WEATHER_CONDITION','LIGHTING_CONDITION','ROADWAY_SURFACE_COND','ROAD_DEFECT','TRAFFIC_CONTROL_DEVICE','POSTED_SPEED_LIMIT','MOST_SEVERE_INJURY']]"
      ],
      "execution_count": null,
      "outputs": []
    },
    {
      "cell_type": "code",
      "metadata": {
        "id": "Bms-z4O55M5J"
      },
      "source": [
        "df = df.dropna()"
      ],
      "execution_count": null,
      "outputs": []
    },
    {
      "cell_type": "markdown",
      "metadata": {
        "id": "zh_-YVRVLrLg"
      },
      "source": [
        "Selecting the environmental attributes from the dataset"
      ]
    },
    {
      "cell_type": "markdown",
      "metadata": {
        "id": "V-YZIH42KSk1"
      },
      "source": [
        "For each attribute considered, \n",
        "we logically fuse similar values and remove the rows whose values are ambiguous \n",
        "\n",
        "\n"
      ]
    },
    {
      "cell_type": "code",
      "metadata": {
        "colab": {
          "base_uri": "https://localhost:8080/"
        },
        "id": "EbvMUZl4zBsX",
        "outputId": "26f30afc-b889-443b-b379-f575f61fda28"
      },
      "source": [
        "# ROAD_DEFECT \n",
        "df.ROAD_DEFECT.unique()"
      ],
      "execution_count": null,
      "outputs": [
        {
          "output_type": "execute_result",
          "data": {
            "text/plain": [
              "array(['NO DEFECTS', 'UNKNOWN', 'RUT, HOLES', 'SHOULDER DEFECT', 'OTHER',\n",
              "       'WORN SURFACE', 'DEBRIS ON ROADWAY'], dtype=object)"
            ]
          },
          "metadata": {
            "tags": []
          },
          "execution_count": 47
        }
      ]
    },
    {
      "cell_type": "code",
      "metadata": {
        "id": "IUOvWicyzCKO"
      },
      "source": [
        "# A rut is a depression or groove worn into a road or path by the travel of wheels\n",
        "# We fuse 'rut,holes' and 'worn' to reduce number of attributes\n",
        "\n",
        "df = df[df.ROADWAY_SURFACE_COND !='UNKNOWN']\n",
        "df = df[df.ROADWAY_SURFACE_COND !='OTHER']\n",
        "df.loc[df.ROADWAY_SURFACE_COND == 'RUT, HOLES','ROADWAY_SURFACE_COND'] = 'WORN SURFACE'"
      ],
      "execution_count": null,
      "outputs": []
    },
    {
      "cell_type": "code",
      "metadata": {
        "colab": {
          "base_uri": "https://localhost:8080/"
        },
        "id": "rNyeAgmZzDx0",
        "outputId": "4b235146-618e-401f-8f86-5c8e83f6e7b4"
      },
      "source": [
        "df.ROADWAY_SURFACE_COND.unique()"
      ],
      "execution_count": null,
      "outputs": [
        {
          "output_type": "execute_result",
          "data": {
            "text/plain": [
              "array(['DRY', 'WET', 'SNOW OR SLUSH', 'ICE', 'SAND, MUD, DIRT'],\n",
              "      dtype=object)"
            ]
          },
          "metadata": {
            "tags": []
          },
          "execution_count": 49
        }
      ]
    },
    {
      "cell_type": "code",
      "metadata": {
        "id": "D-XlMauCev_g"
      },
      "source": [
        "# ROADWAY_SURFACE_CONDITION\n",
        "df = df[df.ROADWAY_SURFACE_COND !='UNKNOWN']\n",
        "df = df[df.ROADWAY_SURFACE_COND !='OTHER']"
      ],
      "execution_count": null,
      "outputs": []
    },
    {
      "cell_type": "code",
      "metadata": {
        "colab": {
          "base_uri": "https://localhost:8080/"
        },
        "id": "SbTdK3ntT6vF",
        "outputId": "0346a1c2-282a-4513-e2bf-d6e381fa5503"
      },
      "source": [
        "# WEATHER_CONDITION\n",
        "df.WEATHER_CONDITION.unique()"
      ],
      "execution_count": null,
      "outputs": [
        {
          "output_type": "execute_result",
          "data": {
            "text/plain": [
              "array(['CLEAR', 'RAIN', 'CLOUDY/OVERCAST', 'UNKNOWN', 'SNOW',\n",
              "       'SLEET/HAIL', 'FOG/SMOKE/HAZE', 'FREEZING RAIN/DRIZZLE', 'OTHER',\n",
              "       'BLOWING SNOW', 'BLOWING SAND, SOIL, DIRT',\n",
              "       'SEVERE CROSS WIND GATE'], dtype=object)"
            ]
          },
          "metadata": {
            "tags": []
          },
          "execution_count": 51
        }
      ]
    },
    {
      "cell_type": "code",
      "metadata": {
        "id": "leQpH55sJxQN"
      },
      "source": [
        "# Fuse all 'freezing conditions/cold' attributes\n",
        "# Fuse all 'obstructing wind' attributes\n",
        "df.loc[df.WEATHER_CONDITION.isin(['SLEET/HAIL','FREEZING RAIN/DRIZZLE']),'WEATHER_CONDITION'] = 'SNOW'\n",
        "df.loc[df.WEATHER_CONDITION == 'BLOWING SNOW','WEATHER_CONDITION'] = 'BLOWING SAND, SOIL, DIRT'\n",
        "df.loc[df.WEATHER_CONDITION == 'BLOWING SAND, SOIL, DIRT','WEATHER_CONDITION'] = 'BLOWING SAND, SOIL, DIRT'\n",
        "df = df[df.WEATHER_CONDITION!='UNKNOWN']\n",
        "df = df[df.WEATHER_CONDITION !='OTHER']"
      ],
      "execution_count": null,
      "outputs": []
    },
    {
      "cell_type": "code",
      "metadata": {
        "colab": {
          "base_uri": "https://localhost:8080/"
        },
        "id": "VgCztj76zaYw",
        "outputId": "369fb578-bcc7-4873-8412-1efcd57ce036"
      },
      "source": [
        "# LIGHTING_CONDITION\n",
        "df.LIGHTING_CONDITION.unique()"
      ],
      "execution_count": null,
      "outputs": [
        {
          "output_type": "execute_result",
          "data": {
            "text/plain": [
              "array(['DAYLIGHT', 'DARKNESS, LIGHTED ROAD', 'DAWN', 'DARKNESS', 'DUSK',\n",
              "       'UNKNOWN'], dtype=object)"
            ]
          },
          "metadata": {
            "tags": []
          },
          "execution_count": 53
        }
      ]
    },
    {
      "cell_type": "code",
      "metadata": {
        "id": "4598-ZOLzcMa"
      },
      "source": [
        "df = df[df.LIGHTING_CONDITION !='UNKNOWN']\n",
        "df = df[df.LIGHTING_CONDITION !='OTHER']"
      ],
      "execution_count": null,
      "outputs": []
    },
    {
      "cell_type": "code",
      "metadata": {
        "colab": {
          "base_uri": "https://localhost:8080/"
        },
        "id": "J61jyGoRzc-o",
        "outputId": "a5da29ed-dd75-4d2e-c1fa-00a42ea20a8e"
      },
      "source": [
        "# TRAFFIC_CONTROL_DEVICE\n",
        "df.TRAFFIC_CONTROL_DEVICE.unique()\n",
        "# Fuse all sign boards\n",
        "# Fuse all traffic lights and flashing signals into Traffic Light Signal"
      ],
      "execution_count": null,
      "outputs": [
        {
          "output_type": "execute_result",
          "data": {
            "text/plain": [
              "array(['STOP SIGN/FLASHER', 'TRAFFIC SIGNAL', 'NO CONTROLS',\n",
              "       'PEDESTRIAN CROSSING SIGN', 'OTHER', 'UNKNOWN', 'YIELD',\n",
              "       'OTHER REG. SIGN', 'LANE USE MARKING', 'POLICE/FLAGMAN',\n",
              "       'RAILROAD CROSSING GATE', 'SCHOOL ZONE', 'OTHER RAILROAD CROSSING',\n",
              "       'OTHER WARNING SIGN', 'DELINEATORS', 'FLASHING CONTROL SIGNAL',\n",
              "       'NO PASSING', 'RR CROSSING SIGN', 'BICYCLE CROSSING SIGN'],\n",
              "      dtype=object)"
            ]
          },
          "metadata": {
            "tags": []
          },
          "execution_count": 55
        }
      ]
    },
    {
      "cell_type": "code",
      "metadata": {
        "id": "3okxMPpUzjoL"
      },
      "source": [
        "df.loc[df.TRAFFIC_CONTROL_DEVICE.isin(['STOP SIGN/FLASHER','TRAFFIC SIGNAL','FLASHING CONTROL SIGNAL']),'TRAFFIC_CONTROL_DEVICE'] = 'TRAFFIC LIGHT SIGNAL'\n",
        "df.loc[df.TRAFFIC_CONTROL_DEVICE.isin(['YIELD','OTHER WARNING SIGN','OTHER REG. SIGN','DELINEATORS','RAILROAD CROSSING GATE','PEDESTRIAN CROSSING SIGN','SCHOOL ZONE','BICYCLE CROSSING SIGN','NO PASSING','OTHER RAILROAD CROSSING' ,'RR CROSSING SIGN']),'TRAFFIC_CONTROL_DEVICE'] = 'VISUAL SIGN BOARD'\n",
        "df = df[df.TRAFFIC_CONTROL_DEVICE!='UNKNOWN']\n",
        "df = df[df.TRAFFIC_CONTROL_DEVICE!='OTHER']"
      ],
      "execution_count": null,
      "outputs": []
    },
    {
      "cell_type": "code",
      "metadata": {
        "colab": {
          "base_uri": "https://localhost:8080/"
        },
        "id": "Ql19H38Uzm1W",
        "outputId": "52d17133-f2b0-482f-a2c4-449929ad17a7"
      },
      "source": [
        "df.isna().sum()"
      ],
      "execution_count": null,
      "outputs": [
        {
          "output_type": "execute_result",
          "data": {
            "text/plain": [
              "LATITUDE                  0\n",
              "LONGITUDE                 0\n",
              "WEATHER_CONDITION         0\n",
              "LIGHTING_CONDITION        0\n",
              "ROADWAY_SURFACE_COND      0\n",
              "ROAD_DEFECT               0\n",
              "TRAFFIC_CONTROL_DEVICE    0\n",
              "POSTED_SPEED_LIMIT        0\n",
              "MOST_SEVERE_INJURY        0\n",
              "dtype: int64"
            ]
          },
          "metadata": {
            "tags": []
          },
          "execution_count": 57
        }
      ]
    },
    {
      "cell_type": "code",
      "metadata": {
        "id": "6PThNPowPZTa"
      },
      "source": [
        "df = pd.get_dummies(df, columns=[\"WEATHER_CONDITION\",'LIGHTING_CONDITION','ROADWAY_SURFACE_COND','TRAFFIC_CONTROL_DEVICE','ROAD_DEFECT']) "
      ],
      "execution_count": null,
      "outputs": []
    },
    {
      "cell_type": "code",
      "metadata": {
        "id": "JhpaPtSaOKpZ"
      },
      "source": [
        "df = df.replace({'MOST_SEVERE_INJURY':{'NO INDICATION OF INJURY':1,'NONINCAPACITATING INJURY':2,'INCAPACITATING INJURY':3,'REPORTED, NOT EVIDENT':0,'FATAL':4}})"
      ],
      "execution_count": null,
      "outputs": []
    },
    {
      "cell_type": "code",
      "metadata": {
        "colab": {
          "base_uri": "https://localhost:8080/",
          "height": 239
        },
        "id": "W-cwWdP0zruW",
        "outputId": "eef24ade-80ac-4158-baa1-aae1a7b0ee80"
      },
      "source": [
        "df.head()"
      ],
      "execution_count": null,
      "outputs": [
        {
          "output_type": "execute_result",
          "data": {
            "text/html": [
              "<div>\n",
              "<style scoped>\n",
              "    .dataframe tbody tr th:only-of-type {\n",
              "        vertical-align: middle;\n",
              "    }\n",
              "\n",
              "    .dataframe tbody tr th {\n",
              "        vertical-align: top;\n",
              "    }\n",
              "\n",
              "    .dataframe thead th {\n",
              "        text-align: right;\n",
              "    }\n",
              "</style>\n",
              "<table border=\"1\" class=\"dataframe\">\n",
              "  <thead>\n",
              "    <tr style=\"text-align: right;\">\n",
              "      <th></th>\n",
              "      <th>LATITUDE</th>\n",
              "      <th>LONGITUDE</th>\n",
              "      <th>POSTED_SPEED_LIMIT</th>\n",
              "      <th>MOST_SEVERE_INJURY</th>\n",
              "      <th>WEATHER_CONDITION_BLOWING SAND, SOIL, DIRT</th>\n",
              "      <th>WEATHER_CONDITION_CLEAR</th>\n",
              "      <th>WEATHER_CONDITION_CLOUDY/OVERCAST</th>\n",
              "      <th>WEATHER_CONDITION_FOG/SMOKE/HAZE</th>\n",
              "      <th>WEATHER_CONDITION_RAIN</th>\n",
              "      <th>WEATHER_CONDITION_SEVERE CROSS WIND GATE</th>\n",
              "      <th>WEATHER_CONDITION_SNOW</th>\n",
              "      <th>LIGHTING_CONDITION_DARKNESS</th>\n",
              "      <th>LIGHTING_CONDITION_DARKNESS, LIGHTED ROAD</th>\n",
              "      <th>LIGHTING_CONDITION_DAWN</th>\n",
              "      <th>LIGHTING_CONDITION_DAYLIGHT</th>\n",
              "      <th>LIGHTING_CONDITION_DUSK</th>\n",
              "      <th>ROADWAY_SURFACE_COND_DRY</th>\n",
              "      <th>ROADWAY_SURFACE_COND_ICE</th>\n",
              "      <th>ROADWAY_SURFACE_COND_SAND, MUD, DIRT</th>\n",
              "      <th>ROADWAY_SURFACE_COND_SNOW OR SLUSH</th>\n",
              "      <th>ROADWAY_SURFACE_COND_WET</th>\n",
              "      <th>TRAFFIC_CONTROL_DEVICE_LANE USE MARKING</th>\n",
              "      <th>TRAFFIC_CONTROL_DEVICE_NO CONTROLS</th>\n",
              "      <th>TRAFFIC_CONTROL_DEVICE_POLICE/FLAGMAN</th>\n",
              "      <th>TRAFFIC_CONTROL_DEVICE_TRAFFIC LIGHT SIGNAL</th>\n",
              "      <th>TRAFFIC_CONTROL_DEVICE_VISUAL SIGN BOARD</th>\n",
              "      <th>ROAD_DEFECT_DEBRIS ON ROADWAY</th>\n",
              "      <th>ROAD_DEFECT_NO DEFECTS</th>\n",
              "      <th>ROAD_DEFECT_OTHER</th>\n",
              "      <th>ROAD_DEFECT_RUT, HOLES</th>\n",
              "      <th>ROAD_DEFECT_SHOULDER DEFECT</th>\n",
              "      <th>ROAD_DEFECT_UNKNOWN</th>\n",
              "      <th>ROAD_DEFECT_WORN SURFACE</th>\n",
              "    </tr>\n",
              "  </thead>\n",
              "  <tbody>\n",
              "    <tr>\n",
              "      <th>2</th>\n",
              "      <td>41.741804</td>\n",
              "      <td>-87.740954</td>\n",
              "      <td>35</td>\n",
              "      <td>1</td>\n",
              "      <td>0</td>\n",
              "      <td>1</td>\n",
              "      <td>0</td>\n",
              "      <td>0</td>\n",
              "      <td>0</td>\n",
              "      <td>0</td>\n",
              "      <td>0</td>\n",
              "      <td>0</td>\n",
              "      <td>0</td>\n",
              "      <td>0</td>\n",
              "      <td>1</td>\n",
              "      <td>0</td>\n",
              "      <td>1</td>\n",
              "      <td>0</td>\n",
              "      <td>0</td>\n",
              "      <td>0</td>\n",
              "      <td>0</td>\n",
              "      <td>0</td>\n",
              "      <td>0</td>\n",
              "      <td>0</td>\n",
              "      <td>1</td>\n",
              "      <td>0</td>\n",
              "      <td>0</td>\n",
              "      <td>1</td>\n",
              "      <td>0</td>\n",
              "      <td>0</td>\n",
              "      <td>0</td>\n",
              "      <td>0</td>\n",
              "      <td>0</td>\n",
              "    </tr>\n",
              "    <tr>\n",
              "      <th>3</th>\n",
              "      <td>41.741804</td>\n",
              "      <td>-87.740954</td>\n",
              "      <td>30</td>\n",
              "      <td>1</td>\n",
              "      <td>0</td>\n",
              "      <td>1</td>\n",
              "      <td>0</td>\n",
              "      <td>0</td>\n",
              "      <td>0</td>\n",
              "      <td>0</td>\n",
              "      <td>0</td>\n",
              "      <td>0</td>\n",
              "      <td>1</td>\n",
              "      <td>0</td>\n",
              "      <td>0</td>\n",
              "      <td>0</td>\n",
              "      <td>1</td>\n",
              "      <td>0</td>\n",
              "      <td>0</td>\n",
              "      <td>0</td>\n",
              "      <td>0</td>\n",
              "      <td>0</td>\n",
              "      <td>0</td>\n",
              "      <td>0</td>\n",
              "      <td>1</td>\n",
              "      <td>0</td>\n",
              "      <td>0</td>\n",
              "      <td>1</td>\n",
              "      <td>0</td>\n",
              "      <td>0</td>\n",
              "      <td>0</td>\n",
              "      <td>0</td>\n",
              "      <td>0</td>\n",
              "    </tr>\n",
              "    <tr>\n",
              "      <th>4</th>\n",
              "      <td>41.953647</td>\n",
              "      <td>-87.732082</td>\n",
              "      <td>35</td>\n",
              "      <td>1</td>\n",
              "      <td>0</td>\n",
              "      <td>1</td>\n",
              "      <td>0</td>\n",
              "      <td>0</td>\n",
              "      <td>0</td>\n",
              "      <td>0</td>\n",
              "      <td>0</td>\n",
              "      <td>0</td>\n",
              "      <td>0</td>\n",
              "      <td>0</td>\n",
              "      <td>1</td>\n",
              "      <td>0</td>\n",
              "      <td>1</td>\n",
              "      <td>0</td>\n",
              "      <td>0</td>\n",
              "      <td>0</td>\n",
              "      <td>0</td>\n",
              "      <td>0</td>\n",
              "      <td>1</td>\n",
              "      <td>0</td>\n",
              "      <td>0</td>\n",
              "      <td>0</td>\n",
              "      <td>0</td>\n",
              "      <td>1</td>\n",
              "      <td>0</td>\n",
              "      <td>0</td>\n",
              "      <td>0</td>\n",
              "      <td>0</td>\n",
              "      <td>0</td>\n",
              "    </tr>\n",
              "    <tr>\n",
              "      <th>5</th>\n",
              "      <td>41.958987</td>\n",
              "      <td>-87.933994</td>\n",
              "      <td>35</td>\n",
              "      <td>1</td>\n",
              "      <td>0</td>\n",
              "      <td>1</td>\n",
              "      <td>0</td>\n",
              "      <td>0</td>\n",
              "      <td>0</td>\n",
              "      <td>0</td>\n",
              "      <td>0</td>\n",
              "      <td>0</td>\n",
              "      <td>0</td>\n",
              "      <td>1</td>\n",
              "      <td>0</td>\n",
              "      <td>0</td>\n",
              "      <td>1</td>\n",
              "      <td>0</td>\n",
              "      <td>0</td>\n",
              "      <td>0</td>\n",
              "      <td>0</td>\n",
              "      <td>0</td>\n",
              "      <td>0</td>\n",
              "      <td>0</td>\n",
              "      <td>1</td>\n",
              "      <td>0</td>\n",
              "      <td>0</td>\n",
              "      <td>1</td>\n",
              "      <td>0</td>\n",
              "      <td>0</td>\n",
              "      <td>0</td>\n",
              "      <td>0</td>\n",
              "      <td>0</td>\n",
              "    </tr>\n",
              "    <tr>\n",
              "      <th>6</th>\n",
              "      <td>41.903825</td>\n",
              "      <td>-87.643286</td>\n",
              "      <td>30</td>\n",
              "      <td>1</td>\n",
              "      <td>0</td>\n",
              "      <td>1</td>\n",
              "      <td>0</td>\n",
              "      <td>0</td>\n",
              "      <td>0</td>\n",
              "      <td>0</td>\n",
              "      <td>0</td>\n",
              "      <td>0</td>\n",
              "      <td>0</td>\n",
              "      <td>0</td>\n",
              "      <td>1</td>\n",
              "      <td>0</td>\n",
              "      <td>1</td>\n",
              "      <td>0</td>\n",
              "      <td>0</td>\n",
              "      <td>0</td>\n",
              "      <td>0</td>\n",
              "      <td>0</td>\n",
              "      <td>0</td>\n",
              "      <td>0</td>\n",
              "      <td>1</td>\n",
              "      <td>0</td>\n",
              "      <td>0</td>\n",
              "      <td>0</td>\n",
              "      <td>0</td>\n",
              "      <td>0</td>\n",
              "      <td>0</td>\n",
              "      <td>1</td>\n",
              "      <td>0</td>\n",
              "    </tr>\n",
              "  </tbody>\n",
              "</table>\n",
              "</div>"
            ],
            "text/plain": [
              "    LATITUDE  LONGITUDE  ...  ROAD_DEFECT_UNKNOWN  ROAD_DEFECT_WORN SURFACE\n",
              "2  41.741804 -87.740954  ...                    0                         0\n",
              "3  41.741804 -87.740954  ...                    0                         0\n",
              "4  41.953647 -87.732082  ...                    0                         0\n",
              "5  41.958987 -87.933994  ...                    0                         0\n",
              "6  41.903825 -87.643286  ...                    1                         0\n",
              "\n",
              "[5 rows x 33 columns]"
            ]
          },
          "metadata": {
            "tags": []
          },
          "execution_count": 60
        }
      ]
    },
    {
      "cell_type": "code",
      "metadata": {
        "id": "-eVBpZoEzuRy"
      },
      "source": [
        "# df.to_csv(r'/content/drive/MyDrive/Accidents/Model_Data.csv',index=False)"
      ],
      "execution_count": null,
      "outputs": []
    },
    {
      "cell_type": "code",
      "metadata": {
        "id": "SvAPUEHW9jx1"
      },
      "source": [
        "df.dropna(inplace=True)"
      ],
      "execution_count": null,
      "outputs": []
    },
    {
      "cell_type": "code",
      "metadata": {
        "id": "AeCmW6Blzy4V"
      },
      "source": [
        "data = df.sample(frac=1).reset_index(drop=True)"
      ],
      "execution_count": null,
      "outputs": []
    },
    {
      "cell_type": "code",
      "metadata": {
        "id": "qjlhW-OXCo6Z"
      },
      "source": [
        "data=data.iloc[:,data.columns != \"LATITUDE\"]\n",
        "data=data.iloc[:,data.columns != \"LONGITUDE\"]"
      ],
      "execution_count": null,
      "outputs": []
    },
    {
      "cell_type": "code",
      "metadata": {
        "id": "h9GQaihGz0N9"
      },
      "source": [
        "n = len(data.columns)\n",
        "X = data.iloc[:, data.columns != 'MOST_SEVERE_INJURY']\n",
        "\n",
        "#Last Column 'MOST_SEVERE_INJURY' is output\n",
        "# Y = data.iloc[:,-1:]\n",
        "Y = data.iloc[:, data.columns == 'MOST_SEVERE_INJURY']\n"
      ],
      "execution_count": null,
      "outputs": []
    },
    {
      "cell_type": "markdown",
      "metadata": {
        "id": "agFf03VGTChL"
      },
      "source": [
        "**Splitting train,test data at a 80:20 ratio**"
      ]
    },
    {
      "cell_type": "code",
      "metadata": {
        "id": "EYVlJVzLz4_b"
      },
      "source": [
        "from sklearn.model_selection import train_test_split\n",
        "x_train, x_test, y_train, y_test = train_test_split(X,Y, test_size=0.2, random_state=0)"
      ],
      "execution_count": null,
      "outputs": []
    },
    {
      "cell_type": "markdown",
      "metadata": {
        "id": "rjvEc0Mateib"
      },
      "source": [
        "**Feature Scaling**"
      ]
    },
    {
      "cell_type": "code",
      "metadata": {
        "id": "bXdvrqJXtiUl"
      },
      "source": [
        "from sklearn.preprocessing import StandardScaler\n",
        "scaler = StandardScaler()\n",
        "scaler.fit(x_train)\n",
        "\n",
        "x_train = scaler.transform(x_train)\n",
        "x_test = scaler.transform(x_test)"
      ],
      "execution_count": null,
      "outputs": []
    },
    {
      "cell_type": "code",
      "metadata": {
        "id": "R76psztIz9qg"
      },
      "source": [
        "from sklearn.metrics import confusion_matrix\n",
        "import sklearn.metrics as metrics"
      ],
      "execution_count": null,
      "outputs": []
    },
    {
      "cell_type": "markdown",
      "metadata": {
        "id": "fdAwLf3Jsml7"
      },
      "source": [
        "**Classification Models** "
      ]
    },
    {
      "cell_type": "markdown",
      "metadata": {
        "id": "b0wU2O9VfUOx"
      },
      "source": [
        "**KNeighborsClassifier**"
      ]
    },
    {
      "cell_type": "markdown",
      "metadata": {
        "id": "CgE5sqGSe470"
      },
      "source": [
        "**Decision Tree**"
      ]
    },
    {
      "cell_type": "code",
      "metadata": {
        "id": "VhjoOK6X0Hfu",
        "colab": {
          "base_uri": "https://localhost:8080/"
        },
        "outputId": "224147ff-db8b-4329-f7bf-c2ce736294b5"
      },
      "source": [
        "from sklearn import tree\n",
        "\n",
        "DT = tree.DecisionTreeClassifier()\n",
        "DT.fit(x_train,y_train.values.ravel())\n",
        "predictions = DT.predict(x_test)\n",
        "\n",
        "tree_confMat=metrics.confusion_matrix(y_test, predictions)\n",
        "print(tree_confMat)\n",
        "\n",
        "MAE_DT = metrics.mean_absolute_error(y_test, predictions)\n",
        "acc_DT = metrics.accuracy_score(y_test, predictions)\n",
        "MSE_DT = metrics.mean_squared_error(y_test, predictions)\n",
        "\n",
        "print(MSE_DT)\n",
        "print(acc_DT)\n"
      ],
      "execution_count": 104,
      "outputs": [
        {
          "output_type": "stream",
          "text": [
            "[[    3  3330     2     2     0]\n",
            " [   41 68883    28     6     0]\n",
            " [    4  5833     2     2     0]\n",
            " [    1  1297     1     0     0]\n",
            " [    0    76     0     0     0]]\n",
            "0.19094213379280855\n",
            "0.8663958446001182\n"
          ],
          "name": "stdout"
        }
      ]
    },
    {
      "cell_type": "code",
      "metadata": {
        "colab": {
          "base_uri": "https://localhost:8080/"
        },
        "id": "vBir3v6iS6W7",
        "outputId": "bdab5ef5-fe1a-463e-e98d-da638a3b8ce4"
      },
      "source": [
        "print(MAE_DT)"
      ],
      "execution_count": 106,
      "outputs": [
        {
          "output_type": "stream",
          "text": [
            "0.152054432720001\n"
          ],
          "name": "stdout"
        }
      ]
    },
    {
      "cell_type": "markdown",
      "metadata": {
        "id": "-p58YCoBiHJG"
      },
      "source": [
        "**Multilayer Perceptron Neural Network**"
      ]
    },
    {
      "cell_type": "code",
      "metadata": {
        "colab": {
          "base_uri": "https://localhost:8080/"
        },
        "id": "Cit2Gz6HTA9z",
        "outputId": "65a30f2c-2965-42e4-f66b-4a6cd5e03ca3"
      },
      "source": [
        "print(MAE_NN)\n",
        "print(MSE_NN)\n",
        "print(acc_NN)"
      ],
      "execution_count": 107,
      "outputs": [
        {
          "output_type": "stream",
          "text": [
            "0.15097282137062795\n",
            "0.18938260114952649\n",
            "0.8672762259310033\n"
          ],
          "name": "stdout"
        }
      ]
    },
    {
      "cell_type": "code",
      "metadata": {
        "id": "zi9iCvnJiPJO",
        "colab": {
          "base_uri": "https://localhost:8080/"
        },
        "outputId": "3d341dd2-395b-4a6f-f8f2-7a4fdc8c08b0"
      },
      "source": [
        "from sklearn.neural_network import MLPClassifier\n",
        "\n",
        "\n",
        "NN = MLPClassifier(hidden_layer_sizes=(10,),solver='sgd', alpha=0.0001)\n",
        "NN.fit(x_train, y_train.values.ravel())\n",
        "predictions = NN.predict(x_test)\n",
        "round(NN.score(x_train, y_train.values.ravel()), 4)\n",
        "\n",
        "nn_confMat=metrics.confusion_matrix(y_test, predictions)\n",
        "print(nn_confMat)\n",
        "\n",
        "MAE_NN = metrics.mean_absolute_error(y_test, predictions)\n",
        "MSE_NN = metrics.mean_squared_error(y_test, predictions)\n",
        "acc_NN = metrics.accuracy_score(y_test, predictions)"
      ],
      "execution_count": 105,
      "outputs": [
        {
          "output_type": "stream",
          "text": [
            "[[    0  3337     0     0     0]\n",
            " [    0 68958     0     0     0]\n",
            " [    0  5841     0     0     0]\n",
            " [    0  1299     0     0     0]\n",
            " [    0    76     0     0     0]]\n"
          ],
          "name": "stdout"
        }
      ]
    },
    {
      "cell_type": "markdown",
      "metadata": {
        "id": "x-hNLjqkHkSo"
      },
      "source": [
        "**Random Forest**"
      ]
    },
    {
      "cell_type": "code",
      "metadata": {
        "id": "m2jFzhYcdg9z"
      },
      "source": [
        "# from sklearn.ensemble import RandomForestClassifier\n",
        "\n",
        "# RF = RandomForestClassifier(n_estimators=100, max_depth=2, random_state=0)\n",
        "# RF.fit(x_train, y_train.values.ravel())\n",
        "# predictions = RF.predict(x_test)\n",
        "\n",
        "# # round(RF.score(x_train, y_train), 4)\n",
        "\n",
        "# acc_RF = metrics.accuracy_score(y_test, predictions)\n",
        "# MAE_RF = metrics.mean_absolute_error(y_test, predictions)\n",
        "# MSE_RF = metrics.mean_squared_error(y_test, predictions)"
      ],
      "execution_count": null,
      "outputs": []
    },
    {
      "cell_type": "markdown",
      "metadata": {
        "id": "hPhmbz4U1HpJ"
      },
      "source": [
        "**Regression Models**"
      ]
    },
    {
      "cell_type": "code",
      "metadata": {
        "id": "0pJqvriJOggt"
      },
      "source": [
        "# divide data into features matrix and target vector\n",
        "features = data.iloc[:, data.columns != 'MOST_SEVERE_INJURY']\n",
        "target = data.iloc[:, data.columns == 'MOST_SEVERE_INJURY']\n",
        "\n",
        "MAE = make_scorer(mean_absolute_error)\n",
        "MSE = make_scorer(mean_squared_error)\n",
        "folds = 5\n"
      ],
      "execution_count": null,
      "outputs": []
    },
    {
      "cell_type": "code",
      "metadata": {
        "id": "FCYUrqzwPtdT"
      },
      "source": [
        "from sklearn.metrics import accuracy_score\n",
        "\n",
        "def acc_fun(target_true, target_fit):\n",
        "    target_fit = np.round(target_fit)\n",
        "    target_fit.astype('int')\n",
        "    return accuracy_score(target_true, target_fit)\n",
        "\n",
        "acc = make_scorer(acc_fun)\n",
        "folds = 5\n"
      ],
      "execution_count": null,
      "outputs": []
    },
    {
      "cell_type": "markdown",
      "metadata": {
        "id": "eJuAOqfSuCLb"
      },
      "source": [
        "**Linear Regression**"
      ]
    },
    {
      "cell_type": "code",
      "metadata": {
        "colab": {
          "base_uri": "https://localhost:8080/"
        },
        "id": "PsYxIbw7mPtU",
        "outputId": "9e026e2c-762b-4237-9109-4a75170edc43"
      },
      "source": [
        "from sklearn.linear_model import LinearRegression\n",
        "\n",
        "model_linear = LinearRegression()\n",
        "\n",
        "MAE_linear = cross_val_score(model_linear,\n",
        "    features,\n",
        "    target,\n",
        "    cv=folds,\n",
        "    scoring=MAE)\n",
        "print('MAE: ', np.mean(MAE_linear))\n",
        "\n",
        "\n",
        "acc_linear = cross_val_score(model_linear, features,  target,  cv=folds,  scoring=acc)\n",
        "print('ACCURACY Linear regression: ',np.mean(acc_linear))\n",
        "\n",
        "MSE_linear = cross_val_score(model_linear,    features,    target,    cv=folds,    scoring=MSE)\n",
        "print('MSE Linear regression: ', np.mean(MSE_linear))\n",
        "\n"
      ],
      "execution_count": 98,
      "outputs": [
        {
          "output_type": "stream",
          "text": [
            "MAE:  0.2081061181600675\n",
            "ACCURACY Linear regression:  0.8662373759605589\n",
            "MSE Linear regression:  0.18734265793063504\n"
          ],
          "name": "stdout"
        }
      ]
    },
    {
      "cell_type": "markdown",
      "metadata": {
        "id": "5U0UFis_uXhq"
      },
      "source": [
        "**Ordinal Regression**"
      ]
    },
    {
      "cell_type": "code",
      "metadata": {
        "id": "8s0E-ioMPNBz"
      },
      "source": [
        "from sklearn.linear_model import LinearRegression, LogisticRegression\n",
        "from mord import LogisticAT"
      ],
      "execution_count": 93,
      "outputs": []
    },
    {
      "cell_type": "code",
      "metadata": {
        "id": "5esEPKouPsnP"
      },
      "source": [
        "model_ordinal = LogisticAT() \n"
      ],
      "execution_count": 99,
      "outputs": []
    },
    {
      "cell_type": "code",
      "metadata": {
        "colab": {
          "base_uri": "https://localhost:8080/"
        },
        "id": "rHHTFm8xP_3G",
        "outputId": "216eb029-dc6e-4eff-d726-25bbec4723e2"
      },
      "source": [
        "model_ordinal.fit(x_train,y_train.values.ravel())\n",
        "predictions = model_ordinal.predict(x_test)\n",
        "acc_RF = metrics.accuracy_score(y_test, predictions)\n",
        "MAE_RF = metrics.mean_absolute_error(y_test, predictions)\n",
        "MSE_RF = metrics.mean_squared_error(y_test, predictions)\n",
        "\n"
      ],
      "execution_count": 103,
      "outputs": [
        {
          "output_type": "stream",
          "text": [
            "0.8672762259310033\n"
          ],
          "name": "stdout"
        }
      ]
    },
    {
      "cell_type": "code",
      "metadata": {
        "colab": {
          "base_uri": "https://localhost:8080/"
        },
        "id": "WHb8azu3TV2F",
        "outputId": "5654fb4f-0eca-41b2-e30e-6969ed4b9dc9"
      },
      "source": [
        "print(acc_RF)\n",
        "print(MAE_RF)\n",
        "print(MSE_RF)"
      ],
      "execution_count": 108,
      "outputs": [
        {
          "output_type": "stream",
          "text": [
            "0.8672762259310033\n",
            "0.15097282137062795\n",
            "0.18938260114952649\n"
          ],
          "name": "stdout"
        }
      ]
    },
    {
      "cell_type": "markdown",
      "metadata": {
        "id": "e10MfkMYuG6H"
      },
      "source": [
        "**Logistic Regression (One vs Rest)**"
      ]
    },
    {
      "cell_type": "code",
      "metadata": {
        "id": "cAsIvznsPzHb"
      },
      "source": [
        "# MAE_ordinal = cross_val_score(model_ordinal,\n",
        "#     features,\n",
        "#     target,\n",
        "#     cv=folds,\n",
        "#     scoring=MAE)\n",
        "# print('Ordered logistic regression: ', np.mean(MAE_ordinal))"
      ],
      "execution_count": null,
      "outputs": []
    },
    {
      "cell_type": "code",
      "metadata": {
        "id": "5Fi19x5nqY_L"
      },
      "source": [
        "# from sklearn.linear_model import LogisticRegression\n",
        "# model_1vR = LogisticRegression(multi_class='ovr', class_weight='balanced',max_iter = 500)\n",
        "\n",
        "# MAE_1vR = cross_val_score(model_1vR,\n",
        "#     features,\n",
        "#     target,\n",
        "#     cv=folds,\n",
        "#     scoring=MAE)\n",
        "# print('Logistic regression (one versus rest): ', np.mean(MAE_1vR))\n",
        "\n",
        "# print('Accuracy')\n",
        "# acc_1vR = cross_val_score(model_1vR,\n",
        "#     features,\n",
        "#     target,\n",
        "#     cv=folds,\n",
        "#     scoring=acc)\n",
        "# print('Logistic regression (one versus rest): ', np.mean(acc_1vR))\n",
        "\n",
        "# print('Mean Squared Error')\n",
        "# MSE_1vR = cross_val_score(model_1vR,\n",
        "#     features,\n",
        "#     target,\n",
        "#     cv=folds,\n",
        "#     scoring=MSE)\n",
        "# print('Logistic regression (one versus rest): ', np.mean(MSE_1vR))\n",
        "\n"
      ],
      "execution_count": null,
      "outputs": []
    },
    {
      "cell_type": "code",
      "metadata": {
        "id": "pbNA_fWkxWVi"
      },
      "source": [
        "from sklearn.linear_model import LogisticRegression"
      ],
      "execution_count": null,
      "outputs": []
    },
    {
      "cell_type": "code",
      "metadata": {
        "id": "IKvIxoP3whEC"
      },
      "source": [
        "# OvR = LogisticRegression(solver='lbfgs', multi_class='ovr')\n",
        "# OvR.fit(x_train, y_train.values.ravel())\n",
        "# OvR_predictions = OvR.predict(x_test)\n",
        "# MAE_OvR = metrics.mean_absolute_error(y_test, OvR_predictions)\n",
        "# MSE_OvR = metrics.mean_squared_error(y_test, OvR_predictions)\n",
        "# acc_OvR = metrics.accuracy_score(y_test, OvR_predictions)"
      ],
      "execution_count": null,
      "outputs": []
    },
    {
      "cell_type": "code",
      "metadata": {
        "id": "160c5jeNxbp3"
      },
      "source": [
        "# print(MAE_OvR)\n",
        "# print(MSE_OvR)\n",
        "# print(acc_OvR)"
      ],
      "execution_count": null,
      "outputs": []
    },
    {
      "cell_type": "code",
      "metadata": {
        "id": "7idZcIKq2gmM"
      },
      "source": [
        "# One-vs-rest (OvR for short, also referred to as One-vs-All or OvA) is a heuristic method \n",
        "# for using binary classification algorithms for multi-class classification.\n",
        "\n",
        "# It involves splitting the multi-class dataset into multiple binary classification problems.\n",
        "# A binary classifier is then trained on each binary classification \n",
        "# problem and predictions are made using the model that is the most confident."
      ],
      "execution_count": null,
      "outputs": []
    },
    {
      "cell_type": "markdown",
      "metadata": {
        "id": "LY0GZsXVuRaj"
      },
      "source": [
        "**Multinomial Logistic Regression**"
      ]
    },
    {
      "cell_type": "code",
      "metadata": {
        "colab": {
          "background_save": true,
          "base_uri": "https://localhost:8080/"
        },
        "id": "ViMaWPwkQwDK",
        "outputId": "5693b417-865d-4c4f-9a6e-ce117040f980"
      },
      "source": [
        "# model_multi = LogisticRegression()\n",
        "\n",
        "# MAE_multi = cross_val_score(model_multi,\n",
        "#     features,\n",
        "#     target.values.ravel(),\n",
        "#     cv=folds,\n",
        "#     scoring=MAE)\n",
        "# print('Logistic regression (multinomial): ', np.mean(MAE_multi))\n",
        "\n",
        "# acc_multi = cross_val_score(model_multi,\n",
        "#     features,\n",
        "#     target.values.ravel(),\n",
        "#     cv=folds,\n",
        "#     scoring=acc)\n",
        "# print('Logistic regression (multinomial): ', np.mean(acc_multi))\n",
        "\n",
        "# print('Mean Squared Error')\n",
        "# MSE_multi = cross_val_score(model_multi,\n",
        "#     features,\n",
        "#     target.values.ravel(),\n",
        "#     cv=folds,\n",
        "#     scoring=MSE)\n",
        "# print('Logistic regression (one versus rest): ', np.mean(MSE_multi))"
      ],
      "execution_count": null,
      "outputs": [
        {
          "output_type": "stream",
          "text": [
            "/usr/local/lib/python3.6/dist-packages/sklearn/linear_model/_logistic.py:940: ConvergenceWarning: lbfgs failed to converge (status=1):\n",
            "STOP: TOTAL NO. of ITERATIONS REACHED LIMIT.\n",
            "\n",
            "Increase the number of iterations (max_iter) or scale the data as shown in:\n",
            "    https://scikit-learn.org/stable/modules/preprocessing.html\n",
            "Please also refer to the documentation for alternative solver options:\n",
            "    https://scikit-learn.org/stable/modules/linear_model.html#logistic-regression\n",
            "  extra_warning_msg=_LOGISTIC_SOLVER_CONVERGENCE_MSG)\n",
            "/usr/local/lib/python3.6/dist-packages/sklearn/linear_model/_logistic.py:940: ConvergenceWarning: lbfgs failed to converge (status=1):\n",
            "STOP: TOTAL NO. of ITERATIONS REACHED LIMIT.\n",
            "\n",
            "Increase the number of iterations (max_iter) or scale the data as shown in:\n",
            "    https://scikit-learn.org/stable/modules/preprocessing.html\n",
            "Please also refer to the documentation for alternative solver options:\n",
            "    https://scikit-learn.org/stable/modules/linear_model.html#logistic-regression\n",
            "  extra_warning_msg=_LOGISTIC_SOLVER_CONVERGENCE_MSG)\n",
            "/usr/local/lib/python3.6/dist-packages/sklearn/linear_model/_logistic.py:940: ConvergenceWarning: lbfgs failed to converge (status=1):\n",
            "STOP: TOTAL NO. of ITERATIONS REACHED LIMIT.\n",
            "\n",
            "Increase the number of iterations (max_iter) or scale the data as shown in:\n",
            "    https://scikit-learn.org/stable/modules/preprocessing.html\n",
            "Please also refer to the documentation for alternative solver options:\n",
            "    https://scikit-learn.org/stable/modules/linear_model.html#logistic-regression\n",
            "  extra_warning_msg=_LOGISTIC_SOLVER_CONVERGENCE_MSG)\n",
            "/usr/local/lib/python3.6/dist-packages/sklearn/linear_model/_logistic.py:940: ConvergenceWarning: lbfgs failed to converge (status=1):\n",
            "STOP: TOTAL NO. of ITERATIONS REACHED LIMIT.\n",
            "\n",
            "Increase the number of iterations (max_iter) or scale the data as shown in:\n",
            "    https://scikit-learn.org/stable/modules/preprocessing.html\n",
            "Please also refer to the documentation for alternative solver options:\n",
            "    https://scikit-learn.org/stable/modules/linear_model.html#logistic-regression\n",
            "  extra_warning_msg=_LOGISTIC_SOLVER_CONVERGENCE_MSG)\n",
            "/usr/local/lib/python3.6/dist-packages/sklearn/linear_model/_logistic.py:940: ConvergenceWarning: lbfgs failed to converge (status=1):\n",
            "STOP: TOTAL NO. of ITERATIONS REACHED LIMIT.\n",
            "\n",
            "Increase the number of iterations (max_iter) or scale the data as shown in:\n",
            "    https://scikit-learn.org/stable/modules/preprocessing.html\n",
            "Please also refer to the documentation for alternative solver options:\n",
            "    https://scikit-learn.org/stable/modules/linear_model.html#logistic-regression\n",
            "  extra_warning_msg=_LOGISTIC_SOLVER_CONVERGENCE_MSG)\n"
          ],
          "name": "stderr"
        },
        {
          "output_type": "stream",
          "text": [
            "Logistic regression (multinomial):  0.15288702192149511\n"
          ],
          "name": "stdout"
        },
        {
          "output_type": "stream",
          "text": [
            "/usr/local/lib/python3.6/dist-packages/sklearn/linear_model/_logistic.py:940: ConvergenceWarning: lbfgs failed to converge (status=1):\n",
            "STOP: TOTAL NO. of ITERATIONS REACHED LIMIT.\n",
            "\n",
            "Increase the number of iterations (max_iter) or scale the data as shown in:\n",
            "    https://scikit-learn.org/stable/modules/preprocessing.html\n",
            "Please also refer to the documentation for alternative solver options:\n",
            "    https://scikit-learn.org/stable/modules/linear_model.html#logistic-regression\n",
            "  extra_warning_msg=_LOGISTIC_SOLVER_CONVERGENCE_MSG)\n",
            "/usr/local/lib/python3.6/dist-packages/sklearn/linear_model/_logistic.py:940: ConvergenceWarning: lbfgs failed to converge (status=1):\n",
            "STOP: TOTAL NO. of ITERATIONS REACHED LIMIT.\n",
            "\n",
            "Increase the number of iterations (max_iter) or scale the data as shown in:\n",
            "    https://scikit-learn.org/stable/modules/preprocessing.html\n",
            "Please also refer to the documentation for alternative solver options:\n",
            "    https://scikit-learn.org/stable/modules/linear_model.html#logistic-regression\n",
            "  extra_warning_msg=_LOGISTIC_SOLVER_CONVERGENCE_MSG)\n",
            "/usr/local/lib/python3.6/dist-packages/sklearn/linear_model/_logistic.py:940: ConvergenceWarning: lbfgs failed to converge (status=1):\n",
            "STOP: TOTAL NO. of ITERATIONS REACHED LIMIT.\n",
            "\n",
            "Increase the number of iterations (max_iter) or scale the data as shown in:\n",
            "    https://scikit-learn.org/stable/modules/preprocessing.html\n",
            "Please also refer to the documentation for alternative solver options:\n",
            "    https://scikit-learn.org/stable/modules/linear_model.html#logistic-regression\n",
            "  extra_warning_msg=_LOGISTIC_SOLVER_CONVERGENCE_MSG)\n",
            "/usr/local/lib/python3.6/dist-packages/sklearn/linear_model/_logistic.py:940: ConvergenceWarning: lbfgs failed to converge (status=1):\n",
            "STOP: TOTAL NO. of ITERATIONS REACHED LIMIT.\n",
            "\n",
            "Increase the number of iterations (max_iter) or scale the data as shown in:\n",
            "    https://scikit-learn.org/stable/modules/preprocessing.html\n",
            "Please also refer to the documentation for alternative solver options:\n",
            "    https://scikit-learn.org/stable/modules/linear_model.html#logistic-regression\n",
            "  extra_warning_msg=_LOGISTIC_SOLVER_CONVERGENCE_MSG)\n",
            "/usr/local/lib/python3.6/dist-packages/sklearn/linear_model/_logistic.py:940: ConvergenceWarning: lbfgs failed to converge (status=1):\n",
            "STOP: TOTAL NO. of ITERATIONS REACHED LIMIT.\n",
            "\n",
            "Increase the number of iterations (max_iter) or scale the data as shown in:\n",
            "    https://scikit-learn.org/stable/modules/preprocessing.html\n",
            "Please also refer to the documentation for alternative solver options:\n",
            "    https://scikit-learn.org/stable/modules/linear_model.html#logistic-regression\n",
            "  extra_warning_msg=_LOGISTIC_SOLVER_CONVERGENCE_MSG)\n"
          ],
          "name": "stderr"
        },
        {
          "output_type": "stream",
          "text": [
            "Logistic regression (multinomial):  0.866214737583479\n",
            "Mean Squared Error\n"
          ],
          "name": "stdout"
        },
        {
          "output_type": "stream",
          "text": [
            "/usr/local/lib/python3.6/dist-packages/sklearn/linear_model/_logistic.py:940: ConvergenceWarning: lbfgs failed to converge (status=1):\n",
            "STOP: TOTAL NO. of ITERATIONS REACHED LIMIT.\n",
            "\n",
            "Increase the number of iterations (max_iter) or scale the data as shown in:\n",
            "    https://scikit-learn.org/stable/modules/preprocessing.html\n",
            "Please also refer to the documentation for alternative solver options:\n",
            "    https://scikit-learn.org/stable/modules/linear_model.html#logistic-regression\n",
            "  extra_warning_msg=_LOGISTIC_SOLVER_CONVERGENCE_MSG)\n",
            "/usr/local/lib/python3.6/dist-packages/sklearn/linear_model/_logistic.py:940: ConvergenceWarning: lbfgs failed to converge (status=1):\n",
            "STOP: TOTAL NO. of ITERATIONS REACHED LIMIT.\n",
            "\n",
            "Increase the number of iterations (max_iter) or scale the data as shown in:\n",
            "    https://scikit-learn.org/stable/modules/preprocessing.html\n",
            "Please also refer to the documentation for alternative solver options:\n",
            "    https://scikit-learn.org/stable/modules/linear_model.html#logistic-regression\n",
            "  extra_warning_msg=_LOGISTIC_SOLVER_CONVERGENCE_MSG)\n",
            "/usr/local/lib/python3.6/dist-packages/sklearn/linear_model/_logistic.py:940: ConvergenceWarning: lbfgs failed to converge (status=1):\n",
            "STOP: TOTAL NO. of ITERATIONS REACHED LIMIT.\n",
            "\n",
            "Increase the number of iterations (max_iter) or scale the data as shown in:\n",
            "    https://scikit-learn.org/stable/modules/preprocessing.html\n",
            "Please also refer to the documentation for alternative solver options:\n",
            "    https://scikit-learn.org/stable/modules/linear_model.html#logistic-regression\n",
            "  extra_warning_msg=_LOGISTIC_SOLVER_CONVERGENCE_MSG)\n",
            "/usr/local/lib/python3.6/dist-packages/sklearn/linear_model/_logistic.py:940: ConvergenceWarning: lbfgs failed to converge (status=1):\n",
            "STOP: TOTAL NO. of ITERATIONS REACHED LIMIT.\n",
            "\n",
            "Increase the number of iterations (max_iter) or scale the data as shown in:\n",
            "    https://scikit-learn.org/stable/modules/preprocessing.html\n",
            "Please also refer to the documentation for alternative solver options:\n",
            "    https://scikit-learn.org/stable/modules/linear_model.html#logistic-regression\n",
            "  extra_warning_msg=_LOGISTIC_SOLVER_CONVERGENCE_MSG)\n"
          ],
          "name": "stderr"
        },
        {
          "output_type": "stream",
          "text": [
            "Logistic regression (one versus rest):  0.19306762586308812\n"
          ],
          "name": "stdout"
        },
        {
          "output_type": "stream",
          "text": [
            "/usr/local/lib/python3.6/dist-packages/sklearn/linear_model/_logistic.py:940: ConvergenceWarning: lbfgs failed to converge (status=1):\n",
            "STOP: TOTAL NO. of ITERATIONS REACHED LIMIT.\n",
            "\n",
            "Increase the number of iterations (max_iter) or scale the data as shown in:\n",
            "    https://scikit-learn.org/stable/modules/preprocessing.html\n",
            "Please also refer to the documentation for alternative solver options:\n",
            "    https://scikit-learn.org/stable/modules/linear_model.html#logistic-regression\n",
            "  extra_warning_msg=_LOGISTIC_SOLVER_CONVERGENCE_MSG)\n"
          ],
          "name": "stderr"
        }
      ]
    },
    {
      "cell_type": "code",
      "metadata": {
        "id": "3vrEEwlvxv7E"
      },
      "source": [
        "# model_multi = LogisticRegression(solver='lbfgs', multi_class='multinomial',max_iter = 1000)\n",
        "# model_multi.fit(x_train, y_train.values.ravel())\n",
        "# model_multi_predictions = model_multi.predict(x_test)\n",
        "# MAE_model_multi = metrics.mean_absolute_error(y_test, model_multi_predictions)\n",
        "# MSE_model_multi = metrics.mean_squared_error(y_test, model_multi_predictions)\n",
        "# acc_model_multi = metrics.accuracy_score(y_test, model_multi_predictions)"
      ],
      "execution_count": null,
      "outputs": []
    },
    {
      "cell_type": "code",
      "metadata": {
        "id": "RnxD5YJLx95k"
      },
      "source": [
        "# print(MAE_model_multi)\n",
        "# print(MSE_model_multi)\n",
        "# print(acc_model_multi)"
      ],
      "execution_count": null,
      "outputs": []
    },
    {
      "cell_type": "code",
      "metadata": {
        "colab": {
          "base_uri": "https://localhost:8080/"
        },
        "id": "cKlM5Hmeyrtz",
        "outputId": "a4ad5fec-eb6d-4098-9ca0-7101b66a53ff"
      },
      "source": [
        "# !pip install mord"
      ],
      "execution_count": null,
      "outputs": [
        {
          "output_type": "stream",
          "text": [
            "Requirement already satisfied: mord in /usr/local/lib/python3.6/dist-packages (0.6)\n"
          ],
          "name": "stdout"
        }
      ]
    },
    {
      "cell_type": "code",
      "metadata": {
        "id": "KDg7C4tmyWmv"
      },
      "source": [
        "# from sklearn.linear_model import LinearRegression, LogisticRegression\n",
        "# from mord import LogisticAT\n",
        "\n",
        "# model_ordinal = LogisticAT(alpha=0)  # alpha parameter set to zero to perform no regularisation\n",
        "\n",
        "# model_ordinal = LogisticRegression(solver='lbfgs', multi_class='multinomial',max_iter = 1000)\n",
        "# model_ordinal.fit(x_train, y_train.values.ravel())\n",
        "# model_ordinal_predictions = model_ordinal.predict(x_test)\n",
        "# MAE_model_ordinal = metrics.mean_absolute_error(y_test, model_ordinal_predictions)\n",
        "# MSE_model_ordinal = metrics.mean_squared_error(y_test, model_ordinal_predictions)\n",
        "# acc_model_ordinal = metrics.accuracy_score(y_test, model_ordinal_predictions)"
      ],
      "execution_count": null,
      "outputs": []
    },
    {
      "cell_type": "code",
      "metadata": {
        "id": "Gh2ghK33yeAY"
      },
      "source": [
        "# print(MAE_model_ordinal)\n",
        "# print(MSE_model_ordinal)\n",
        "# print(acc_model_ordinal)"
      ],
      "execution_count": null,
      "outputs": []
    },
    {
      "cell_type": "code",
      "metadata": {
        "id": "eE1J7RJfQ3Tv"
      },
      "source": [
        "# from mord import LogisticAT\n",
        "# model_ordinal = LogisticAT()  # alpha parameter set to zero to perform no regularisation\n",
        "\n",
        "# MAE_ordinal = cross_val_score(model_ordinal,\n",
        "#     features,\n",
        "#     target,\n",
        "#     cv=folds,\n",
        "#     scoring=MAE)\n",
        "# print('Ordered logistic regression: ', np.mean(MAE_ordinal))\n",
        "\n",
        "# acc_ordinal = cross_val_score(model_ordinal,\n",
        "#     features,\n",
        "#     target,\n",
        "#     cv=folds,\n",
        "#     scoring=acc)\n",
        "# print('Ordered logistic regression: ', np.mean(acc_ordinal))\n",
        "\n",
        "# print('Mean Squared Error')\n",
        "# MSE_ordinal = cross_val_score(model_ordinal,\n",
        "#     features,\n",
        "#     target,\n",
        "#     cv=folds,\n",
        "#     scoring=MSE)\n",
        "# print('Logistic regression (one versus rest): ', np.mean(MSE_ordinal))"
      ],
      "execution_count": null,
      "outputs": []
    },
    {
      "cell_type": "markdown",
      "metadata": {
        "id": "sGGXnEg22xFU"
      },
      "source": [
        "**Results**"
      ]
    },
    {
      "cell_type": "code",
      "metadata": {
        "colab": {
          "base_uri": "https://localhost:8080/",
          "height": 131
        },
        "id": "02Oob87j20yu",
        "outputId": "c3ca9359-944f-4c12-e76d-d86ad384e59e"
      },
      "source": [
        "import plotly.graph_objects as go\n",
        "\n",
        "fig = go.Figure(data=[go.Table(header=dict(values=['Model', 'Accuracy', 'MAE','MSE']),\n",
        "                 cells=dict(values=[['KNN','Decision Tree','Random Forest','NN','Linear Regression'\n",
        "                 ,'Logistic Regression(OvR)','Logistic Regression(Multinomial)','Ordinal Regression'],\n",
        "                  [MAE_KNN,MAE_DT,MAE_RF,MAE_NN,MAE_linear,MAE_1vR, MAE_multi,MAE_ordinal],\n",
        "                  [acc_KNN,acc_DT,acc_RF,acc_NN,acc_linear,acc_1vR, acc_multi, acc_ordinal]\n",
        "                  [MSE_KNN,MSE_DT,MSE_RF,MSE_NN,MSE_linear,MSE_1vR, MSE_multi,MSE_ordinal]))\n",
        "                     ])\n",
        "fig.show()"
      ],
      "execution_count": null,
      "outputs": [
        {
          "output_type": "error",
          "ename": "SyntaxError",
          "evalue": "ignored",
          "traceback": [
            "\u001b[0;36m  File \u001b[0;32m\"<ipython-input-90-c0dda9633cbe>\"\u001b[0;36m, line \u001b[0;32m8\u001b[0m\n\u001b[0;31m    [MSE_KNN,MSE_DT,MSE_RF,MSE_NN,MSE_linear,MSE_1vR, MSE_multi,MSE_ordinal]))\u001b[0m\n\u001b[0m                                                                            ^\u001b[0m\n\u001b[0;31mSyntaxError\u001b[0m\u001b[0;31m:\u001b[0m invalid syntax\n"
          ]
        }
      ]
    },
    {
      "cell_type": "code",
      "metadata": {
        "id": "kzgWkDxMwFD2"
      },
      "source": [
        "# from sklearn import svm\n",
        "# import pandas as pd\n",
        "\n",
        "# #OVR : ONE vs REST\n",
        "\n",
        "\n",
        "# SVM = svm.SVC(decision_function_shape=\"ovr\").fit(x_train, y_train.values.ravel())\n",
        "# prediction = SVM.predict(x_test)\n",
        "# round(SVM.score(x_test, y_test.values.ravel()), 4)\n",
        "# # print(CM(predictions,y_test))\n",
        "# # predictions\n",
        "# svm_confMat=metrics.confusion_matrix(y_test, predictions)\n",
        "\n",
        "\n",
        "# from sklearn.ensemble import RandomForestClassifier\n",
        "\n",
        "# RF = RandomForestClassifier(n_estimators=100, max_depth=2, random_state=0)\n",
        "# RF.fit(x_train, y_train.values.ravel())\n",
        "# predictions = RF.predict(x_test)\n",
        "# # predictions\n",
        "# # round(RF.score(x_train, y_train.values.ravel()), 4)\n",
        "# # print(CM(predictions,y_test))\n",
        "# Random_confMat=metrics.confusion_matrix(y_test, predictions)\n",
        "# print(Random_confMat)\n",
        "# print(\"Accuracy=\",metrics.accuracy_score(y_test, predictions))"
      ],
      "execution_count": null,
      "outputs": []
    },
    {
      "cell_type": "code",
      "metadata": {
        "id": "1bLCdy1SfVeH"
      },
      "source": [
        "# from sklearn.neighbors import KNeighborsClassifier\n",
        "# from sklearn import metrics\n",
        "\n",
        "# scores = {}\n",
        "# scores_list = []\n",
        "# for k in (1,15):\n",
        "#    KNN = KNeighborsClassifier(n_neighbors=k, algorithm = 'auto')\n",
        "#    KNN.fit(x_train, y_train.values.ravel())\n",
        "#    y_pred = KNN.predict(x_test)\n",
        "#    scores[k] = metrics.accuracy_score(y_test,y_pred)\n",
        "#    scores_list.append(metrics.accuracy_score(y_test,y_pred))\n",
        "\n",
        "# MAE_KNN = metrics.mean_absolute_error(y_test, predictions)\n",
        "# acc_KNN = metrics.accuracy_score(y_test, predictions)\n",
        "# MSE_KNN = metrics.mean_squared_error(y_test, predictions)\n",
        "\n",
        "# result = metrics.confusion_matrix(y_test, y_pred)\n",
        "# print(\"Confusion Matrix:\")\n",
        "# print(result)\n",
        "# result1 = metrics.classification_report(y_test, y_pred)\n",
        "# print(\"Classification Report:\",)\n",
        "# print (result1)\n",
        "# print()"
      ],
      "execution_count": null,
      "outputs": []
    },
    {
      "cell_type": "code",
      "metadata": {
        "id": "YkGYMeerqU5d"
      },
      "source": [
        "# from sklearn.linear_model import LogisticRegression\n",
        "# model_multi = LogisticRegression(multi_class='multinomial', solver='lbfgs',  class_weight='balanced')\n",
        "# model_multi.fit(x_train, y_train.values.ravel())\n",
        "# predictions = model_multi.predict(x_test)\n",
        "# # for i in range(len(predictions)):\n",
        "# #     predictions[i]=np.round(predictions[i])\n",
        "# # predictions\n",
        "# MultiLogisticReg_confMat=metrics.confusion_matrix(y_test, predictions)\n",
        "# print(MultiLogisticReg_confMat)\n",
        "# print(metrics.accuracy_score(y_test, predictions))"
      ],
      "execution_count": null,
      "outputs": []
    },
    {
      "cell_type": "code",
      "metadata": {
        "id": "6NrHkX1aed_2"
      },
      "source": [
        "# from sklearn.linear_model import LinearRegression\n",
        "# model_linear = LinearRegression()\n",
        "# model_linear.fit(x_train, y_train.values.ravel())\n",
        "# predictions = model_linear.predict(x_test)\n",
        "# for i in range(len(predictions)):\n",
        "#     predictions[i]=np.round(predictions[i])\n",
        "# # predictions\n",
        "# linearRef_confMat=metrics.confusion_matrix(y_test, predictions)\n",
        "# print(linearRef_confMat)\n",
        "# print(metrics.accuracy_score(y_test, predictions))"
      ],
      "execution_count": null,
      "outputs": []
    },
    {
      "cell_type": "code",
      "metadata": {
        "colab": {
          "background_save": true
        },
        "id": "4vzhaHa9mYAT"
      },
      "source": [
        "# from sklearn.linear_model import LogisticRegression\n",
        "# model_1vR = LogisticRegression(multi_class='ovr', class_weight='balanced')\n",
        "# model_1vR.fit(x_train, y_train.values.ravel())\n",
        "# predictions = model_1vR.predict(x_test)\n",
        "# # predictions\n",
        "# logisticReg_confMat=metrics.confusion_matrix(y_test, predictions)"
      ],
      "execution_count": null,
      "outputs": []
    },
    {
      "cell_type": "code",
      "metadata": {
        "id": "XThi2z5CNGxW"
      },
      "source": [
        ""
      ],
      "execution_count": null,
      "outputs": []
    }
  ]
}